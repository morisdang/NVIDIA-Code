{
  "cells": [
    {
      "cell_type": "code",
      "source": [
        "from google.colab import drive\n",
        "drive.mount('/content/drive')"
      ],
      "metadata": {
        "colab": {
          "base_uri": "https://localhost:8080/"
        },
        "id": "xqEzg4neKebC",
        "outputId": "48e37587-364b-4622-9699-5e42296aa9e7"
      },
      "execution_count": 1,
      "outputs": [
        {
          "output_type": "stream",
          "name": "stdout",
          "text": [
            "Mounted at /content/drive\n"
          ]
        }
      ]
    },
    {
      "cell_type": "code",
      "execution_count": null,
      "metadata": {
        "id": "8ejDhnOkKMd-"
      },
      "outputs": [],
      "source": [
        "#Loading the Data Into Memory (with Keras)\n",
        "from tensorflow.keras.datasets import mnist\n",
        "from tensorflow.keras.layers import Dense, Flatten\n",
        "from tensorflow.keras.optimizers import SGD, Adam\n",
        "from tensorflow.keras.utils import to_categorical\n",
        "from sklearn.model_selection import KFold\n",
        "from matplotlib import pyplot as plt\n",
        "from numpy import mean, std \n",
        "from tensorflow.keras.models import load_model,Sequential\n",
        "from tensorflow.keras.preprocessing.image import load_img, img_to_array\n",
        "import numpy as np\n",
        "import pandas as pd\n",
        "from tensorflow import keras\n",
        "import tensorflow"
      ]
    },
    {
      "cell_type": "code",
      "execution_count": null,
      "metadata": {
        "id": "DbxM1e5ZKMeB"
      },
      "outputs": [],
      "source": [
        "num_classes=24\n"
      ]
    },
    {
      "cell_type": "code",
      "execution_count": 2,
      "metadata": {
        "id": "kSFy6eVkKMeB"
      },
      "outputs": [],
      "source": [
        "train_path ='asl_data/sign_mnist_train.csv'\n",
        "valid_path ='asl_data/sign_mnist_valid.csv'"
      ]
    },
    {
      "cell_type": "code",
      "source": [
        "%cd /content/drive/MyDrive/Colab Notebooks (2)/Quynh Hoa"
      ],
      "metadata": {
        "colab": {
          "base_uri": "https://localhost:8080/"
        },
        "id": "LEvkM5p2KqeJ",
        "outputId": "24f272ae-4eaa-41e7-a01a-ddc28c89a9dd"
      },
      "execution_count": 3,
      "outputs": [
        {
          "output_type": "stream",
          "name": "stdout",
          "text": [
            "/content/drive/MyDrive/Colab Notebooks (2)/Quynh Hoa\n"
          ]
        }
      ]
    },
    {
      "cell_type": "code",
      "execution_count": 4,
      "metadata": {
        "id": "ayAWe0l5KMeB",
        "colab": {
          "base_uri": "https://localhost:8080/",
          "height": 182
        },
        "outputId": "b84c2085-2637-4f1b-edfd-8ff9ea78cd8a"
      },
      "outputs": [
        {
          "output_type": "error",
          "ename": "NameError",
          "evalue": "ignored",
          "traceback": [
            "\u001b[0;31m---------------------------------------------------------------------------\u001b[0m",
            "\u001b[0;31mNameError\u001b[0m                                 Traceback (most recent call last)",
            "\u001b[0;32m<ipython-input-4-31a8b132c710>\u001b[0m in \u001b[0;36m<module>\u001b[0;34m\u001b[0m\n\u001b[0;32m----> 1\u001b[0;31m \u001b[0mtrain_df\u001b[0m \u001b[0;34m=\u001b[0m \u001b[0mpd\u001b[0m\u001b[0;34m.\u001b[0m\u001b[0mread_csv\u001b[0m\u001b[0;34m(\u001b[0m\u001b[0mtrain_path\u001b[0m\u001b[0;34m)\u001b[0m\u001b[0;34m\u001b[0m\u001b[0;34m\u001b[0m\u001b[0m\n\u001b[0m\u001b[1;32m      2\u001b[0m \u001b[0mvalid_df\u001b[0m \u001b[0;34m=\u001b[0m \u001b[0mpd\u001b[0m\u001b[0;34m.\u001b[0m\u001b[0mread_csv\u001b[0m\u001b[0;34m(\u001b[0m\u001b[0mvalid_path\u001b[0m\u001b[0;34m)\u001b[0m\u001b[0;34m\u001b[0m\u001b[0;34m\u001b[0m\u001b[0m\n",
            "\u001b[0;31mNameError\u001b[0m: name 'pd' is not defined"
          ]
        }
      ],
      "source": [
        "train_df = pd.read_csv(train_path)\n",
        "valid_df = pd.read_csv(valid_path)"
      ]
    },
    {
      "cell_type": "code",
      "execution_count": null,
      "metadata": {
        "id": "O-BuhFodKMeC"
      },
      "outputs": [],
      "source": [
        "def load_dataset(train,valid):\n",
        "\ttrain_df = pd.read_csv(train)\n",
        "\tvalid_df = pd.read_csv(valid)\n",
        "\n",
        "\ty_train = train_df['label']\n",
        "\ty_valid = valid_df['label']\n",
        "\tdel train_df['label']\n",
        "\tdel valid_df['label']\n",
        "\n",
        "\tx_train = train_df.values\n",
        "\tx_valid = valid_df.values\n",
        "\t\n",
        "\tx_train = x_train.reshape(-1,28,28,1)\n",
        "\tx_valid = x_valid.reshape(-1,28,28,1)\n",
        "\n",
        "\treturn (x_train,y_train),(x_valid,y_valid)\n",
        "\t\n",
        "def prep_pixels(train, test):\n",
        "\t# convert from integers to floats\n",
        "\ttrain_norm = train.astype('float32')\n",
        "\ttest_norm = test.astype('float32')\n",
        "\t# normalize to range 0-1\n",
        "\ttrain_norm = train_norm / 255.0\n",
        "\ttest_norm = test_norm / 255.0\n",
        "\t# return normalized images\n",
        "\treturn train_norm, test_norm\n",
        "\n",
        "def define_model():\n",
        "\tmodel = Sequential()\n",
        "\tmodel.add(Dense(units = 512, activation='relu',input_shape=(28,28,1)))\n",
        "\tmodel.add(Dense(units = 512, activation='relu'))\n",
        "\tmodel.add(Flatten())\n",
        "\tmodel.add(Dense(units=num_classes, activation = 'softmax'))\n",
        "\t\n",
        "\tmodel.compile(loss='categorical_crossentropy', metrics=['accuracy'])\n",
        "\tmodel.summary()\n",
        "\treturn model \n",
        "\t\n",
        "def evaluate_model(dataX, dataY, n_folds=5):\n",
        "\tscores, histories = list(), list()\n",
        "\t# prepare cross validation\n",
        "\tkfold = KFold(n_folds, shuffle=True, random_state=1)\n",
        "\t# enumerate splits\n",
        "\tcount = 0\n",
        "\tfor train_ix, test_ix in kfold.split(dataX):\n",
        "\t\t# define model\n",
        "\t\tmodel = define_model()\n",
        "\t\t# select rows for train and test\n",
        "\t\tx_train, y_train, x_valid, y_valid = dataX[train_ix], dataY[train_ix], dataX[test_ix], dataY[test_ix]\n",
        "\t\t\n",
        "\t\t# fit model\n",
        "\t\thistory = model.fit(x_train, y_train, epochs=10, validation_data=(x_valid, y_valid))\n",
        "\t\t# evaluate model\n",
        "\t\t_, acc = model.evaluate(x_valid, y_valid, verbose=0)\n",
        "\t\tprint('> %.3f' % (acc * 100.0))\n",
        "\t\t# stores scores\n",
        "\t\tscores.append(acc)\n",
        "\t\thistories.append(history)\n",
        "\t\tmodel.save('sign_mnist'+'_'+'version'+'_'+str(count)+'.h5')\n",
        "\t\tcount += 1\n",
        "\treturn scores, histories\n",
        "def summarize_diagnostics(histories):\n",
        "\tfor i in range(len(histories)):\n",
        "\t\t# plot loss\n",
        "\t\tplt.subplot(2, 1, 1)\n",
        "\t\tplt.title('Cross Entropy Loss')\n",
        "\t\tplt.plot(histories[i].history['loss'], color='blue', label='train')\n",
        "\t\tplt.plot(histories[i].history['val_loss'], color='orange', label='test')\n",
        "\t\t# plot accuracy\n",
        "\t\tplt.subplot(2, 1, 2)\n",
        "\t\tplt.title('Classification Accuracy')\n",
        "\t\tplt.plot(histories[i].history['accuracy'], color='blue', label='train')\n",
        "\t\tplt.plot(histories[i].history['val_accuracy'], color='orange', label='test')\n",
        "\tplt.show()\n",
        "\n",
        "def summarize_performance(scores):\n",
        "\t# print summary\n",
        "\tprint('Accuracy: mean=%.3f std=%.3f, n=%d' % (mean(scores)*100, std(scores)*100, len(scores)))\n",
        "\t# box and whisker plots of results\n",
        "\tplt.boxplot(scores)\n",
        "\tplt.show()\n",
        "\n",
        "def evaluate(data_path):\n",
        "\t# load dataset\n",
        "\t(x_train, y_train), (x_valid,y_valid) = load_dataset(data_path)\n",
        "\t# prepare pixel data\n",
        "\tx_train, x_valid = prep_pixels(x_train, x_valid)\n",
        "\ty_train = keras.utils.to_categorical(y_train,num_classes)\n",
        "\ty_valid = keras.utils.to_categorical(y_valid,num_classes)\n",
        "\n",
        "\t# evaluate model\n",
        "\tscores, histories = evaluate_model(x_train, y_train)\n",
        "\t# learning curves\n",
        "\tsummarize_diagnostics(histories)\n",
        "\t# summarize estimated performance\n",
        "\tsummarize_performance(scores)\n",
        "\n",
        "def train_model(train_path,valid_path):\n",
        "\t# load dataset\n",
        "\t(x_train, y_train), (x_valid, y_valid) = load_dataset(train_path,valid_path)\n",
        "\n",
        "\ty_train = keras.utils.to_categorical(y_train,num_classes)\n",
        "\ty_valid = keras.utils.to_categorical(y_valid,num_classes)\n",
        "\n",
        "\t# prepare pixel data\n",
        "\tx_train, x_valid = prep_pixels(x_train, x_valid)\n",
        "\t# define model\n",
        "\tmodel = define_model()\n",
        "\t# fit model\n",
        "\tmodel.fit(x_train, y_train, epochs=20, validation_data=(x_valid,y_valid))\n",
        "\n",
        "\tmodel.save('sign_mnist.h5')\n"
      ]
    },
    {
      "cell_type": "code",
      "execution_count": null,
      "metadata": {
        "id": "Iyj_0Nv6KMeD"
      },
      "outputs": [],
      "source": [
        "#Show all classes\n",
        "s = set()\n",
        "(x_train,y_train),(x_valid,y_valid) = load_dataset(train_path, valid_path)\n",
        "for idx in range(27455):\n",
        "    label = y_train[idx]\n",
        "    prev = len(s)\n",
        "    s.add(label)\n",
        "    cont = len(s)\n",
        "    if (prev is not cont):\n",
        "        plt.subplot(1, num_classes+1, len(s)+1)\n",
        "        plt.title(label, fontdict={'fontsize':10})\n",
        "        plt.axis('off')\n",
        "        plt.imshow(x_train[idx], cmap='gray')"
      ]
    },
    {
      "cell_type": "code",
      "execution_count": null,
      "metadata": {
        "colab": {
          "base_uri": "https://localhost:8080/"
        },
        "id": "UdHVIHaSKMeF",
        "outputId": "7d459a99-045d-4d6c-d6f7-725e1801f5f3"
      },
      "outputs": [
        {
          "output_type": "stream",
          "name": "stdout",
          "text": [
            "Model: \"sequential_3\"\n",
            "_________________________________________________________________\n",
            " Layer (type)                Output Shape              Param #   \n",
            "=================================================================\n",
            " dense_9 (Dense)             (None, 28, 28, 512)       1024      \n",
            "                                                                 \n",
            " dense_10 (Dense)            (None, 28, 28, 512)       262656    \n",
            "                                                                 \n",
            " flatten_3 (Flatten)         (None, 401408)            0         \n",
            "                                                                 \n",
            " dense_11 (Dense)            (None, 24)                9633816   \n",
            "                                                                 \n",
            "=================================================================\n",
            "Total params: 9,897,496\n",
            "Trainable params: 9,897,496\n",
            "Non-trainable params: 0\n",
            "_________________________________________________________________\n",
            "Epoch 1/20\n",
            "858/858 [==============================] - 23s 26ms/step - loss: 0.7546 - accuracy: 0.7897 - val_loss: 1.5976 - val_accuracy: 0.6758\n",
            "Epoch 2/20\n",
            "858/858 [==============================] - 22s 26ms/step - loss: 0.0802 - accuracy: 0.9777 - val_loss: 2.4123 - val_accuracy: 0.7015\n",
            "Epoch 3/20\n",
            "858/858 [==============================] - 22s 25ms/step - loss: 0.0342 - accuracy: 0.9907 - val_loss: 2.8872 - val_accuracy: 0.6984\n",
            "Epoch 4/20\n",
            "858/858 [==============================] - 22s 25ms/step - loss: 0.0179 - accuracy: 0.9949 - val_loss: 3.5667 - val_accuracy: 0.6868\n",
            "Epoch 5/20\n",
            "858/858 [==============================] - 22s 25ms/step - loss: 0.0122 - accuracy: 0.9968 - val_loss: 3.8369 - val_accuracy: 0.6973\n",
            "Epoch 6/20\n",
            "858/858 [==============================] - 22s 25ms/step - loss: 0.0078 - accuracy: 0.9981 - val_loss: 4.7037 - val_accuracy: 0.6895\n",
            "Epoch 7/20\n",
            "858/858 [==============================] - 22s 25ms/step - loss: 0.0064 - accuracy: 0.9982 - val_loss: 5.1410 - val_accuracy: 0.6899\n",
            "Epoch 8/20\n",
            "858/858 [==============================] - 22s 26ms/step - loss: 0.0061 - accuracy: 0.9988 - val_loss: 5.1272 - val_accuracy: 0.6839\n",
            "Epoch 9/20\n",
            "858/858 [==============================] - 22s 25ms/step - loss: 0.0049 - accuracy: 0.9988 - val_loss: 5.9976 - val_accuracy: 0.6557\n",
            "Epoch 10/20\n",
            "858/858 [==============================] - 22s 25ms/step - loss: 0.0040 - accuracy: 0.9992 - val_loss: 6.5013 - val_accuracy: 0.6740\n",
            "Epoch 11/20\n",
            "858/858 [==============================] - 22s 25ms/step - loss: 0.0030 - accuracy: 0.9996 - val_loss: 7.2615 - val_accuracy: 0.6718\n",
            "Epoch 12/20\n",
            "858/858 [==============================] - 22s 25ms/step - loss: 0.0027 - accuracy: 0.9995 - val_loss: 8.8127 - val_accuracy: 0.6675\n",
            "Epoch 13/20\n",
            "858/858 [==============================] - 22s 25ms/step - loss: 5.4285e-04 - accuracy: 0.9998 - val_loss: 8.4746 - val_accuracy: 0.6755\n",
            "Epoch 14/20\n",
            "858/858 [==============================] - 22s 25ms/step - loss: 9.7372e-04 - accuracy: 0.9999 - val_loss: 8.5766 - val_accuracy: 0.6973\n",
            "Epoch 15/20\n",
            "858/858 [==============================] - 22s 25ms/step - loss: 0.0023 - accuracy: 0.9996 - val_loss: 9.7516 - val_accuracy: 0.6885\n",
            "Epoch 16/20\n",
            "858/858 [==============================] - 22s 25ms/step - loss: 0.0019 - accuracy: 0.9996 - val_loss: 10.2551 - val_accuracy: 0.6847\n",
            "Epoch 17/20\n",
            "858/858 [==============================] - 22s 25ms/step - loss: 2.1726e-04 - accuracy: 0.9999 - val_loss: 10.7226 - val_accuracy: 0.6822\n",
            "Epoch 18/20\n",
            "858/858 [==============================] - 22s 25ms/step - loss: 0.0012 - accuracy: 0.9997 - val_loss: 9.7914 - val_accuracy: 0.6846\n",
            "Epoch 19/20\n",
            "858/858 [==============================] - 22s 25ms/step - loss: 0.0022 - accuracy: 0.9998 - val_loss: 10.5442 - val_accuracy: 0.6864\n",
            "Epoch 20/20\n",
            "858/858 [==============================] - 22s 25ms/step - loss: 6.0265e-04 - accuracy: 0.9998 - val_loss: 10.5491 - val_accuracy: 0.6725\n"
          ]
        }
      ],
      "source": [
        "train_model(train_path,valid_path)"
      ]
    },
    {
      "cell_type": "code",
      "source": [
        "!ls"
      ],
      "metadata": {
        "colab": {
          "base_uri": "https://localhost:8080/"
        },
        "id": "BJTufqZ7RKsE",
        "outputId": "4a25ab25-f2e5-4fc6-aa80-29b196bc64ea"
      },
      "execution_count": null,
      "outputs": [
        {
          "output_type": "stream",
          "name": "stdout",
          "text": [
            "asl_data    FaceRecognition\t       LSTM_Basic\t sign_mnist.h5\n",
            "asl_images  GenerateMusic_Transformer  Pytorch_Tutorial  sign_mnist.ipynb\n"
          ]
        }
      ]
    },
    {
      "cell_type": "code",
      "execution_count": 6,
      "metadata": {
        "colab": {
          "base_uri": "https://localhost:8080/"
        },
        "id": "kYhIvZyrKMeG",
        "outputId": "375b6bce-390f-464e-d13e-9f12d66d55b4"
      },
      "outputs": [
        {
          "output_type": "stream",
          "name": "stdout",
          "text": [
            "1/1 [==============================] - 0s 129ms/step\n",
            "1\n"
          ]
        }
      ],
      "source": [
        "import cv2 \n",
        "from tensorflow.keras.preprocessing.image import img_to_array, load_img\n",
        "from tensorflow.keras.models import load_model\n",
        "import numpy as np\n",
        "\n",
        "model = load_model('sign_mnist.h5')\n",
        "def load_image(filename):\n",
        "\t# load the image\n",
        "\timg = load_img(filename, grayscale=True, target_size=(28, 28))\n",
        "\t# convert to array\n",
        "\timg = img_to_array(img)\n",
        "\t# reshape into a single sample with 1 channel\n",
        "\timg = img.reshape(1, 28, 28, 1)\n",
        "\t# prepare pixel data\n",
        "\timg = img.astype('float32')\n",
        "\timg = img / 255.0\n",
        "\treturn img\n",
        "img = load_image('asl_images/b.png')\n",
        "predict_value = model.predict(img)\n",
        "digit = np.argmax(predict_value)\n",
        "print(digit)"
      ]
    },
    {
      "cell_type": "code",
      "execution_count": null,
      "metadata": {
        "id": "-cDYnqYpKMeG"
      },
      "outputs": [],
      "source": []
    },
    {
      "cell_type": "code",
      "execution_count": null,
      "metadata": {
        "id": "pHobTpJ9KMeG"
      },
      "outputs": [],
      "source": [
        "len(predict_value[0])"
      ]
    },
    {
      "cell_type": "code",
      "execution_count": null,
      "metadata": {
        "id": "X6DdjV0eKMeG"
      },
      "outputs": [],
      "source": [
        "for x in range(len(predict_value)):\n",
        "    "
      ]
    },
    {
      "cell_type": "code",
      "execution_count": null,
      "metadata": {
        "id": "gEPYVgm6KMeH"
      },
      "outputs": [],
      "source": []
    },
    {
      "cell_type": "code",
      "execution_count": null,
      "metadata": {
        "id": "iYvnl9-yKMeH"
      },
      "outputs": [],
      "source": []
    }
  ],
  "metadata": {
    "kernelspec": {
      "display_name": "Python 3.8.0 ('mt5')",
      "language": "python",
      "name": "python3"
    },
    "language_info": {
      "codemirror_mode": {
        "name": "ipython",
        "version": 3
      },
      "file_extension": ".py",
      "mimetype": "text/x-python",
      "name": "python",
      "nbconvert_exporter": "python",
      "pygments_lexer": "ipython3",
      "version": "3.8.0"
    },
    "orig_nbformat": 4,
    "vscode": {
      "interpreter": {
        "hash": "812b486ad2084a08223db90253446ec6f6432551433bfae110e81073f75afcf4"
      }
    },
    "colab": {
      "provenance": [],
      "machine_shape": "hm"
    },
    "accelerator": "GPU",
    "gpuClass": "standard"
  },
  "nbformat": 4,
  "nbformat_minor": 0
}